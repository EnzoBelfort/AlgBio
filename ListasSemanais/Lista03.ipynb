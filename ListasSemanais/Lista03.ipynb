{
 "cells": [
  {
   "cell_type": "markdown",
   "id": "9ade96e9",
   "metadata": {},
   "source": [
    "# Lista 03 – loops e condicionais"
   ]
  },
  {
   "cell_type": "markdown",
   "id": "617bb73c",
   "metadata": {},
   "source": [
    "1) Em química, o pH de uma solução aquosa é uma medida da\n",
    "sua acidez.Os\n",
    "Valores de pH variam entre 0 e 14. Soluções ácidas tem pH\n",
    "menor que 7. Soluções básicas tem pH maior que 7. Soluções\n",
    "neutras tem pH igual a 7. Escreva duas funções que recebem\n",
    "um número correspondente ao pH de uma solução aquosa e\n",
    "exibem na tela o tipo de solução (algo como “A solução é\n",
    "ácida”)."
   ]
  },
  {
   "cell_type": "code",
   "execution_count": 6,
   "id": "809c48a4",
   "metadata": {},
   "outputs": [
    {
     "data": {
      "text/plain": [
       "'A solução é ácida'"
      ]
     },
     "execution_count": 6,
     "metadata": {},
     "output_type": "execute_result"
    }
   ],
   "source": [
    "def clasPH (ph):\n",
    "  \"\"\"\n",
    "  Classifies the pH value into categories.\n",
    "  \n",
    "  Parameters:\n",
    "  ph (float): The pH value to classify.\n",
    "  \n",
    "  Returns:\n",
    "  str: The classification of the pH value.\n",
    "  \"\"\"\n",
    "  if ph < 0 or ph > 14:\n",
    "    return \"Invalid pH value\"\n",
    "  elif ph < 7:\n",
    "    return \"A solução é ácida\"\n",
    "  elif ph == 7:\n",
    "    return \"A solução é neutra\"\n",
    "  else:\n",
    "    return \"A solução é básica\"\n",
    "  \n",
    "# Exemplo:\n",
    "ph = float(input(\"Digite o valor do pH: \"))\n",
    "clasPH(ph)"
   ]
  },
  {
   "cell_type": "markdown",
   "id": "1563ef47",
   "metadata": {},
   "source": [
    "2) Em um script, o usuário deve responder à pergunta\n",
    "“Continuar (s/n)?”. Se o\n",
    "usuário digitar ‘s’ ou ‘S’, o script deve retornar a mensagem\n",
    "“OK, continuando...”. Se o usuário digitar ‘n’ ou ‘N’, o script\n",
    "deve retornar a mensagem “OK, parando...”. Por fim, se o\n",
    "usuário digitar qualquer outra coisa,\n",
    "o script deve retornar uma mensagem de erro."
   ]
  },
  {
   "cell_type": "code",
   "execution_count": 8,
   "id": "5066ae8a",
   "metadata": {},
   "outputs": [
    {
     "name": "stdout",
     "output_type": "stream",
     "text": [
      "OK, parando...\n"
     ]
    }
   ],
   "source": [
    "resposta = input(\"vc quer continuar? (s/n): \")\n",
    "\n",
    "if(resposta == \"s\" or resposta == \"S\"):\n",
    "  print(\"OK, continuando...\")\n",
    "elif(resposta == \"n\" or resposta == \"N\"):\n",
    "  print(\"OK, parando...\")\n",
    "else:\n",
    "  print(\"Erro\")"
   ]
  },
  {
   "cell_type": "markdown",
   "id": "4fa09745",
   "metadata": {},
   "source": [
    "3) Faça um programa para escrever a contagem regressiva do\n",
    "lançamento de\n",
    "um foguete. O programa deve imprimir 10, 9, 8, ..., 1, 0 e Fogo!\n",
    "na tela"
   ]
  },
  {
   "cell_type": "code",
   "execution_count": 20,
   "id": "33bb37aa",
   "metadata": {},
   "outputs": [
    {
     "name": "stdout",
     "output_type": "stream",
     "text": [
      "10, 9, 8, 7, 6, 5, 4, 3, 2, 1, 0 e Fogo!\n"
     ]
    }
   ],
   "source": [
    "for i in range(10, 0, -1):\n",
    "  print(f\"{i},\",end=\" \")\n",
    "\n",
    "print(\"0 e Fogo!\")"
   ]
  },
  {
   "cell_type": "markdown",
   "id": "e2f0d946",
   "metadata": {},
   "source": [
    "4) Crie um programa que imprima a sequência de Fibonacci\n",
    "até o décimo termo usando um loop for."
   ]
  },
  {
   "cell_type": "code",
   "execution_count": 24,
   "id": "70f8953d",
   "metadata": {},
   "outputs": [
    {
     "name": "stdout",
     "output_type": "stream",
     "text": [
      "1 1 2 3 5 8 13 21 34 55 "
     ]
    }
   ],
   "source": [
    "a1 = 1\n",
    "a2 = 1\n",
    "\n",
    "print(\"1 1 \",end=\"\")\n",
    "\n",
    "for i in range(8):\n",
    "  a3 = a1 + a2\n",
    "  a1 = a2\n",
    "  a2 = a3\n",
    "  print(a3, end=\" \")"
   ]
  },
  {
   "cell_type": "markdown",
   "id": "b5317ffe",
   "metadata": {},
   "source": [
    "5) Escreva um programa que encontre e imprima todos os\n",
    "números primos entre 1 e 100."
   ]
  },
  {
   "cell_type": "code",
   "execution_count": 26,
   "id": "afc8d9e0",
   "metadata": {},
   "outputs": [
    {
     "name": "stdout",
     "output_type": "stream",
     "text": [
      "2 3 5 7 11 13 17 19 23 29 31 37 41 43 47 53 59 61 67 71 73 79 83 89 97 "
     ]
    }
   ],
   "source": [
    "for i in range(1, 100):\n",
    "  cont = 0\n",
    "  for j in range(1, 100):\n",
    "    if i % j == 0:\n",
    "      cont += 1\n",
    "  if cont == 2:\n",
    "    print(i,end=\" \")\n"
   ]
  },
  {
   "cell_type": "markdown",
   "id": "d4e2ee42",
   "metadata": {},
   "source": [
    "6) Escreva um programa que determine se um número é primo\n",
    "ou não."
   ]
  },
  {
   "cell_type": "code",
   "execution_count": 35,
   "id": "5831a6b7",
   "metadata": {},
   "outputs": [
    {
     "name": "stdout",
     "output_type": "stream",
     "text": [
      "11 eh primo\n"
     ]
    }
   ],
   "source": [
    "num = int(input(\"Digite um num para checar se ele eh primo: \"))\n",
    "\n",
    "cont = 0\n",
    "for i in range(1, 1000000):\n",
    "  if num % i == 0:\n",
    "    cont += 1\n",
    "\n",
    "if cont == 2:\n",
    "  print(f\"{num} eh primo\")\n",
    "else:\n",
    "  print(f\"{num} nao eh primo\")"
   ]
  },
  {
   "cell_type": "code",
   "execution_count": 36,
   "id": "534c0168",
   "metadata": {},
   "outputs": [
    {
     "name": "stdout",
     "output_type": "stream",
     "text": [
      "675646 nao eh primo\n"
     ]
    }
   ],
   "source": [
    "num = int(input(\"Digite um num para checar se ele eh primo: \"))\n",
    "\n",
    "if num < 2:\n",
    "  print(f\"{num} nao eh primo\")\n",
    "else:\n",
    "  eh_primo = True\n",
    "  # Verifica divisibilidade por 2 separadamente\n",
    "  if num % 2 == 0:\n",
    "    eh_primo = num == 2\n",
    "  else:\n",
    "    # Verifica divisores ímpares até a raiz quadrada de num\n",
    "    for i in range(3, int(num**0.5) + 1, 2):\n",
    "      if num % i == 0:\n",
    "        eh_primo = False\n",
    "        break\n",
    "  if eh_primo:\n",
    "    print(f\"{num} eh primo\")\n",
    "  else:\n",
    "    print(f\"{num} nao eh primo\")"
   ]
  },
  {
   "cell_type": "markdown",
   "id": "e0492d30",
   "metadata": {},
   "source": [
    "7) Escreva um programa que simule um caixa eletrônico,\n",
    "solicitando ao usuário que insira o valor do saque e informando\n",
    "quantas notas de cada valor serão entregues (considere notas\n",
    "de R$ 100, R$ 50, R$ 20, R$ 10, R$ 5 e R$ 2)."
   ]
  },
  {
   "cell_type": "code",
   "execution_count": 38,
   "id": "7498f6f8",
   "metadata": {},
   "outputs": [
    {
     "name": "stdout",
     "output_type": "stream",
     "text": [
      "1 notas de R$ 100, \n",
      "1 notas de R$ 50, \n",
      "0 notas de R$ 20, \n",
      "0 notas de R$ 10, \n",
      "1 notas de R$ 5 e \n",
      "2 notas de R$ 2\n"
     ]
    }
   ],
   "source": [
    "saque = int(input(\"Valor a sacar: \"))\n",
    "\n",
    "\n",
    "notas_cem = saque // 100\n",
    "notas_cinquenta = (saque - notas_cem * 100) // 50\n",
    "notas_vinte = (saque - notas_cem * 100 - notas_cinquenta * 50) // 20\n",
    "notas_dez = (saque - notas_cem * 100 - notas_cinquenta * 50 - notas_vinte * 20) // 10\n",
    "notas_cinco = (saque - notas_cem * 100 - notas_cinquenta * 50 - notas_vinte * 20 - notas_dez * 10) // 5\n",
    "notas_dois = (saque - notas_cem * 100 - notas_cinquenta * 50 - notas_vinte * 20 - notas_dez * 10 - notas_cinco * 5) // 2\n",
    "\n",
    "print(f\"{notas_cem} notas de R$ 100, \\n{notas_cinquenta} notas de R$ 50, \\n{notas_vinte} notas de R$ 20, \\n{notas_dez} notas de R$ 10, \\n{notas_cinco} notas de R$ 5 e \\n{notas_dois} notas de R$ 2\")"
   ]
  },
  {
   "cell_type": "code",
   "execution_count": null,
   "id": "9f531769",
   "metadata": {},
   "outputs": [],
   "source": [
    "saque = int(input(\"Valor a sacar: \"))\n",
    "\n",
    "# Validação do valor\n",
    "if saque <= 0:\n",
    "  print(\"Valor inválido. Digite um valor maior que zero.\")\n",
    "elif saque % 2 != 0 and saque % 5 != 0:\n",
    "  print(\"Valor não pode ser sacado com as notas disponíveis.\")\n",
    "else:\n",
    "  # Lista com os valores das notas disponíveis\n",
    "  notas = [100, 50, 20, 10, 5, 2]\n",
    "  \n",
    "  # Dicionário para armazenar a quantidade de cada nota\n",
    "  quantidade_notas = {}\n",
    "  \n",
    "  # Valor restante a ser sacado\n",
    "  restante = saque\n",
    "  \n",
    "  # Calcula a quantidade de cada nota\n",
    "  for nota in notas:\n",
    "      quantidade_notas[nota] = restante // nota\n",
    "      restante = restante % nota\n",
    "  \n",
    "  # Exibe o resultado\n",
    "  for nota in notas:\n",
    "    print(f\"{quantidade_notas[nota]} notas de R$ {nota}\")\n",
    "    \n",
    "  # Verifica se sobrou algum valor que não pode ser sacado\n",
    "  if restante > 0:\n",
    "    print(f\"Não é possível sacar o valor completo. Restante: R$ {restante}\")"
   ]
  },
  {
   "cell_type": "markdown",
   "id": "9b70f45f",
   "metadata": {},
   "source": [
    "8) Crie um programa que calcule o IMC (Índice de Massa\n",
    "Corporal) de uma pessoa e forneça uma classificação com\n",
    "base no resultado."
   ]
  },
  {
   "cell_type": "code",
   "execution_count": null,
   "id": "b6252e96",
   "metadata": {},
   "outputs": [],
   "source": [
    "def calcular_imc(peso, altura):\n",
    "  return peso / (altura ** 2)\n",
    "\n",
    "def classificar_imc(imc):\n",
    "  if imc < 18.5:\n",
    "    return \"Abaixo do peso\"\n",
    "  elif 18.5 <= imc < 24.9:\n",
    "    return \"Peso normal\"\n",
    "  elif 25 <= imc < 29.9:\n",
    "    return \"Sobrepeso\"\n",
    "  else:\n",
    "    return \"Obesidade\"\n",
    "\n",
    "peso = float(input(\"Digite seu peso em kg: \"))\n",
    "altura = float(input(\"Digite sua altura em metros: \"))\n",
    "imc = calcular_imc(peso, altura)\n",
    "classificacao = classificar_imc(imc)\n",
    "\n",
    "print(f\"Seu IMC é {imc:.2f}, e você está classificado como: {classificacao}\")"
   ]
  },
  {
   "cell_type": "markdown",
   "id": "ef113d1d",
   "metadata": {},
   "source": [
    "9) Crie um programa que determine se um número é um\n",
    "número de Armstrong ou não. Um número de Armstrong é\n",
    "aquele que é igual à soma de seus dígitos elevados à potência\n",
    "do número de dígitos."
   ]
  },
  {
   "cell_type": "code",
   "execution_count": null,
   "id": "b7386fed",
   "metadata": {},
   "outputs": [
    {
     "name": "stdout",
     "output_type": "stream",
     "text": [
      "407 é um num de Armstrong\n"
     ]
    }
   ],
   "source": [
    "num = int(input(\"Digite um num: \"))\n",
    "\n",
    "if num // 10 == 0:\n",
    "  print(f\"{num} é um num de Armstrong\")\n",
    "else:\n",
    "  digitos = 0\n",
    "  pot_10 = 1\n",
    "  while num // pot_10 != 0:\n",
    "    digitos += 1\n",
    "    pot_10 *= 10\n",
    "\n",
    "  soma = 0\n",
    "  pot_10 = 10 ** (digitos - 1)\n",
    "  aux = num\n",
    "  for i in range(digitos):\n",
    "    soma = soma + (aux // pot_10) ** digitos\n",
    "    aux = aux % pot_10\n",
    "    pot_10 /= 10\n",
    "  \n",
    "  if soma == num:\n",
    "    print(f\"{num} é um num de Armstrong\")\n",
    "  else:\n",
    "    print(f\"{num} não é um num de Armstrong\")"
   ]
  },
  {
   "cell_type": "code",
   "execution_count": null,
   "id": "03ad0cac",
   "metadata": {},
   "outputs": [],
   "source": [
    "def eh_numero_armstrong(num):\n",
    "  # Converte o número para string para facilitar a manipulação dos dígitos\n",
    "  num_str = str(num)\n",
    "  # Obtém o número de dígitos\n",
    "  num_digitos = len(num_str)\n",
    "  \n",
    "  # Calcula a soma dos dígitos elevados à potência do número de dígitos\n",
    "  soma = sum(int(digito) ** num_digitos for digito in num_str)\n",
    "  \n",
    "  # Verifica se é um número de Armstrong\n",
    "  return soma == num\n",
    "\n",
    "# Entrada do usuário\n",
    "num = int(input(\"Digite um num: \"))\n",
    "\n",
    "# Verificação e saída do resultado\n",
    "if eh_numero_armstrong(num):\n",
    "  print(f\"{num} é um num de Armstrong\")\n",
    "else:\n",
    "  print(f\"{num} não é um num de Armstrong\")"
   ]
  },
  {
   "attachments": {
    "image.png": {
     "image/png": "[encoded data removed]"
    }
   },
   "cell_type": "markdown",
   "id": "1389c575",
   "metadata": {},
   "source": [
    "10) O inverso do número e pode ser aproximado pela seguinte\n",
    "expressão:\n",
    "\n",
    "![image.png](attachment:image.png)\n",
    "\n",
    "Escreva uma função que recebe como input um número α e,\n",
    "através de um loop, aproxima o valor da constante e tal que o erro\n",
    "na estimativa é menor que α.\n",
    "função deve exibir o valor da constante e com 8 casas decimais e\n",
    "exibir também\n",
    "o n necessário na aproximação."
   ]
  },
  {
   "cell_type": "code",
   "execution_count": 57,
   "id": "1d346634",
   "metadata": {},
   "outputs": [
    {
     "name": "stdout",
     "output_type": "stream",
     "text": [
      "e = 2.72826941 \n",
      "n = 137\n"
     ]
    }
   ],
   "source": [
    "import math\n",
    "\n",
    "def euler(a):\n",
    "  n = 2\n",
    "  while True:\n",
    "    # Calculando a aproximação de 1/e usando a fórmula\n",
    "    inverso_e_aprox = (1 - 1/n)**n\n",
    "    \n",
    "    # Calculando a aproximação de e\n",
    "    e_aprox = 1 / inverso_e_aprox\n",
    "    \n",
    "    # Calculando o erro absoluto\n",
    "    erro = abs(e_aprox - math.e)\n",
    "    \n",
    "    # Verificando se alcançamos a precisão desejada\n",
    "    if erro < a:\n",
    "      print(f\"e = {e_aprox:.8f} \\nn = {n}\")\n",
    "      break\n",
    "        \n",
    "    n += 1\n",
    "\n",
    "# Entrada do erro tolerado como número decimal\n",
    "alfa = float(input(\"Erro tolerado: \"))\n",
    "euler(alfa)"
   ]
  }
 ],
 "metadata": {
  "kernelspec": {
   "display_name": "Python 3",
   "language": "python",
   "name": "python3"
  },
  "language_info": {
   "codemirror_mode": {
    "name": "ipython",
    "version": 3
   },
   "file_extension": ".py",
   "mimetype": "text/x-python",
   "name": "python",
   "nbconvert_exporter": "python",
   "pygments_lexer": "ipython3",
   "version": "3.11.9"
  }
 },
 "nbformat": 4,
 "nbformat_minor": 5
}
