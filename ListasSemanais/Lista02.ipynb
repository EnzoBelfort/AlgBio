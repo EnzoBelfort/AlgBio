{
 "cells": [
  {
   "cell_type": "markdown",
   "id": "b96f83be",
   "metadata": {},
   "source": [
    "1. Crie duas variáveis contendo trechos de DNA, como \"ATGC\" e \"TGA\", e\n",
    "concatene-as para formar uma sequência maior."
   ]
  },
  {
   "cell_type": "code",
   "execution_count": null,
   "id": "111d944e",
   "metadata": {},
   "outputs": [
    {
     "name": "stdout",
     "output_type": "stream",
     "text": [
      "ATCGTGA\n",
      "ATCGTGA\n"
     ]
    }
   ],
   "source": [
    "trecho1 = input(\"1ª seq de DNA: \")\n",
    "trecho2 = input(\"2ª seq de DNA: \")\n",
    "\n",
    "seq_maior = trecho1 + trecho2\n",
    "print(seq_maior)                                # print(f\"{seq_maior}\")                                "
   ]
  },
  {
   "cell_type": "markdown",
   "id": "4fb8a5ab",
   "metadata": {},
   "source": [
    "2. Se uma sequência contém \"AG\", use um operador para repeti-la cinco vezes,\n",
    "simulando um padrão repetitivo."
   ]
  },
  {
   "cell_type": "code",
   "execution_count": 9,
   "id": "2b4d6988",
   "metadata": {},
   "outputs": [
    {
     "name": "stdout",
     "output_type": "stream",
     "text": [
      "TAGAGAGAGAGAG\n"
     ]
    }
   ],
   "source": [
    "DNA = input(\"Digite a fita de DNA: \")\n",
    "if \"AG\" in DNA:\n",
    "  DNA += \"AG\"*5\n",
    "\n",
    "print(DNA)"
   ]
  },
  {
   "cell_type": "markdown",
   "id": "5fac16a1",
   "metadata": {},
   "source": [
    "3. Use a função len() para descobrir quantos nucleotídeos há na sequência\n",
    "\"ATGCGTAC\"."
   ]
  },
  {
   "cell_type": "code",
   "execution_count": 11,
   "id": "08dd63b8",
   "metadata": {},
   "outputs": [
    {
     "name": "stdout",
     "output_type": "stream",
     "text": [
      "A fita têm 3 nucleotídeos"
     ]
    }
   ],
   "source": [
    "DNA = input(\"Digite a fita de DNA: \")\n",
    "qtd_nucleotideos = len(DNA)\n",
    "\n",
    "print(f\"A fita têm {qtd_nucleotideos} nucleotídeos\", end=\"\")"
   ]
  },
  {
   "cell_type": "markdown",
   "id": "f4c89b25",
   "metadata": {},
   "source": [
    "4. Dada a string \"AGCTGA\", imprima a primeira e a última base nitrogenada."
   ]
  },
  {
   "cell_type": "code",
   "execution_count": 13,
   "id": "e94a1e4c",
   "metadata": {},
   "outputs": [
    {
     "name": "stdout",
     "output_type": "stream",
     "text": [
      "Primeira base nitrogenada: T\n",
      "Última base nitrogenada: G\n"
     ]
    }
   ],
   "source": [
    "DNA = input(\"Digite a fita de DNA: \")\n",
    "print(f\"Primeira base nitrogenada: {DNA[0]}\")\n",
    "print(f\"Última base nitrogenada: {DNA[-1]}\")"
   ]
  },
  {
   "cell_type": "markdown",
   "id": "2a900f92",
   "metadata": {},
   "source": [
    "5. Dada a sequência \"CGTACGTAGC\", exiba apenas os cinco primeiros\n",
    "nucleotídeos."
   ]
  },
  {
   "cell_type": "code",
   "execution_count": null,
   "id": "2bac26a9",
   "metadata": {},
   "outputs": [
    {
     "name": "stdout",
     "output_type": "stream",
     "text": [
      "CGTAC\n",
      "CGTAC\n"
     ]
    }
   ],
   "source": [
    "DNA = input(\"Digite a fita de DNA: \")\n",
    "print(DNA[0:5])                                 # print(DNA[:5])"
   ]
  },
  {
   "cell_type": "markdown",
   "id": "2b7cd8ce",
   "metadata": {},
   "source": [
    "6. Pegue a sequência \"TACGATCGG\" e exiba apenas os três últimos\n",
    "nucleotídeos."
   ]
  },
  {
   "cell_type": "code",
   "execution_count": null,
   "id": "88141ca3",
   "metadata": {},
   "outputs": [
    {
     "name": "stdout",
     "output_type": "stream",
     "text": [
      "CGG\n",
      "CTAGCAT\n"
     ]
    }
   ],
   "source": [
    "DNA = input(\"Digite a fita de DNA: \")\n",
    "print(DNA[-3:])\n",
    "# print(DNA[-3::-1]) -> começa na posição -3 e vai indo no sentido contrário até chegar no começo "
   ]
  },
  {
   "cell_type": "markdown",
   "id": "de2390f0",
   "metadata": {},
   "source": [
    "7. A partir da sequência \"AATGCGTACG\", exiba apenas os quatro nucleotídeos\n",
    "centrais."
   ]
  },
  {
   "cell_type": "code",
   "execution_count": 28,
   "id": "b864308c",
   "metadata": {},
   "outputs": [
    {
     "name": "stdout",
     "output_type": "stream",
     "text": [
      "GCGT\n"
     ]
    }
   ],
   "source": [
    "DNA = input(\"Digite a fita de DNA: \")\n",
    "meio = len(DNA)//2 - 1\n",
    "\n",
    "print(DNA[meio-1:meio+3])"
   ]
  },
  {
   "cell_type": "markdown",
   "id": "7bb8d3e7",
   "metadata": {},
   "source": [
    "8. Converta \"atgcgtac\" para maiúsculas e \"ACGTGCA\" para minúsculas."
   ]
  },
  {
   "cell_type": "code",
   "execution_count": 29,
   "id": "68ecf651",
   "metadata": {},
   "outputs": [
    {
     "name": "stdout",
     "output_type": "stream",
     "text": [
      "ATGCGTAC\n",
      "acgrgca\n"
     ]
    }
   ],
   "source": [
    "fita1 = input(\"fita1: \")\n",
    "fita2 = input(\"fita2: \")\n",
    "\n",
    "print(fita1.upper())\n",
    "print(fita2.lower())"
   ]
  },
  {
   "cell_type": "markdown",
   "id": "ff65b74c",
   "metadata": {},
   "source": [
    "9. Substitua todas as ocorrências da base \"A\" pela base \"T\" na sequência\n",
    "\"AAGCTA\"."
   ]
  },
  {
   "cell_type": "code",
   "execution_count": 31,
   "id": "ae790c2c",
   "metadata": {},
   "outputs": [
    {
     "name": "stdout",
     "output_type": "stream",
     "text": [
      "TTGCTT\n"
     ]
    }
   ],
   "source": [
    "DNA = input(\"Digite a fita de DNA: \")\n",
    "DNA = DNA.replace(\"A\",\"T\")\n",
    "print(DNA)"
   ]
  },
  {
   "cell_type": "markdown",
   "id": "b04fc34b",
   "metadata": {},
   "source": [
    "10. sequência \" ATG CCA GTC \" contém espaços extras. Remova-os e imprima\n",
    "o resultado."
   ]
  },
  {
   "cell_type": "code",
   "execution_count": 32,
   "id": "b9ebc7cd",
   "metadata": {},
   "outputs": [
    {
     "name": "stdout",
     "output_type": "stream",
     "text": [
      "ATGCCAGTC\n"
     ]
    }
   ],
   "source": [
    "DNA = input(\"Digite a fita de DNA: \")\n",
    "DNA = DNA.replace(\" \",\"\")\n",
    "print(DNA)"
   ]
  },
  {
   "cell_type": "markdown",
   "id": "65fceac5",
   "metadata": {},
   "source": [
    "11. Defina três variáveis com segmentos genéticos, como \"ATG\", \"GCA\" e \"TGA\",\n",
    "e una-os para formar um gene completo."
   ]
  },
  {
   "cell_type": "code",
   "execution_count": 33,
   "id": "d207c60e",
   "metadata": {},
   "outputs": [
    {
     "name": "stdout",
     "output_type": "stream",
     "text": [
      "ATGGCATGA\n"
     ]
    }
   ],
   "source": [
    "segmento1 = input(\"Seg1: \")\n",
    "segmento2 = input(\"Seg2: \")\n",
    "segmento3 = input(\"Seg3: \")\n",
    "\n",
    "DNA = segmento1 + segmento2 + segmento3\n",
    "print(DNA)"
   ]
  },
  {
   "cell_type": "markdown",
   "id": "63f25607",
   "metadata": {},
   "source": [
    "12. Verifique se a sequência \"TATA\" está contida na string \"ATGCTATAAGC\" e\n",
    "exiba o resultado."
   ]
  },
  {
   "cell_type": "code",
   "execution_count": 34,
   "id": "c13eb38b",
   "metadata": {},
   "outputs": [
    {
     "name": "stdout",
     "output_type": "stream",
     "text": [
      "a seq TATA está na fita ATGCTATAAGC\n"
     ]
    }
   ],
   "source": [
    "fita = \"ATGCTATAAGC\"\n",
    "if \"TATA\" in fita:\n",
    "  print(f\"a seq TATA está na fita {fita}\")\n",
    "else:\n",
    "  print(f\"a seq TATA não está na fita {fita}\")"
   ]
  },
  {
   "cell_type": "markdown",
   "id": "cdaf01ad",
   "metadata": {},
   "source": [
    "13. Conte quantas vezes a base \"G\" aparece na sequência \"GGTACGGGCA\"."
   ]
  },
  {
   "cell_type": "code",
   "execution_count": null,
   "id": "2583dd5b",
   "metadata": {},
   "outputs": [
    {
     "name": "stdout",
     "output_type": "stream",
     "text": [
      "Total de bases nitrigendas guanina: 0\n"
     ]
    }
   ],
   "source": [
    "DNA = input(\"Digite a fita de DNA: \")\n",
    "qtd_G = DNA.count(\"G\")\n",
    "\n",
    "print(f\"Total de bases nitrigenadas guanina: {qtd_G}\")"
   ]
  },
  {
   "cell_type": "markdown",
   "id": "395abdeb",
   "metadata": {},
   "source": [
    "14. Use f-strings para exibir a mensagem \"O gene X tem Y nucleotídeos\",\n",
    "substituindo X e Y por valores de variáveis."
   ]
  },
  {
   "cell_type": "code",
   "execution_count": 38,
   "id": "66f1f4d1",
   "metadata": {},
   "outputs": [
    {
     "name": "stdout",
     "output_type": "stream",
     "text": [
      "O gene ATCGGA tem 6 nucleotídeos\n"
     ]
    }
   ],
   "source": [
    "DNA = input(\"Digite a fita de DNA: \")\n",
    "tam = len(DNA)\n",
    "\n",
    "print(f\"O gene {DNA} tem {tam} nucleotídeos\")"
   ]
  },
  {
   "cell_type": "markdown",
   "id": "ce269706",
   "metadata": {},
   "source": [
    "15. Inverta a string \"ATGCGTA\" utilizando fatiamento para simular a fita\n",
    "complementar."
   ]
  },
  {
   "cell_type": "code",
   "execution_count": 42,
   "id": "2a70b882",
   "metadata": {},
   "outputs": [
    {
     "name": "stdout",
     "output_type": "stream",
     "text": [
      "ATGCGTA\n"
     ]
    }
   ],
   "source": [
    "DNA = \"ATGCGTA\"\n",
    "fita_complementar = DNA[::-1]\n",
    "print(fita_complementar)"
   ]
  }
 ],
 "metadata": {
  "kernelspec": {
   "display_name": "Python 3",
   "language": "python",
   "name": "python3"
  },
  "language_info": {
   "codemirror_mode": {
    "name": "ipython",
    "version": 3
   },
   "file_extension": ".py",
   "mimetype": "text/x-python",
   "name": "python",
   "nbconvert_exporter": "python",
   "pygments_lexer": "ipython3",
   "version": "3.11.9"
  }
 },
 "nbformat": 4,
 "nbformat_minor": 5
}
