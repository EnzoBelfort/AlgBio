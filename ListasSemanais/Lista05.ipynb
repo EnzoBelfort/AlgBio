{
 "cells": [
  {
   "cell_type": "markdown",
   "id": "796630ed",
   "metadata": {},
   "source": [
    "1) Escreva um programa que gere um dicionário, onde cada chave\n",
    "seja um caractere, e seu valor seja o número desse caractere\n",
    "encontrado em uma frase lida.\n",
    "Exemplo: O rato -> { “O”:1, “r”:1, “a”:1, “t”:1, “o”:1}"
   ]
  },
  {
   "cell_type": "code",
   "execution_count": null,
   "id": "873eb095",
   "metadata": {},
   "outputs": [
    {
     "name": "stdout",
     "output_type": "stream",
     "text": [
      "dict_items([('O', 1), ('t', 1), ('r', 1), ('a', 1), ('o', 1)])\n"
     ]
    }
   ],
   "source": [
    "frase = input(\"Frase: \")\n",
    "a = set(frase.replace(\" \",\"\"))\n",
    "\n",
    "freq = {}\n",
    "for i in a:\n",
    "\tfreq[i] = frase.count(i)\n",
    "\n",
    "print(freq.items())"
   ]
  },
  {
   "cell_type": "code",
   "execution_count": 8,
   "id": "e65c024e",
   "metadata": {},
   "outputs": [
    {
     "name": "stdout",
     "output_type": "stream",
     "text": [
      "{'O': 1, 't': 1, 'r': 1, 'a': 1, 'o': 1}\n"
     ]
    }
   ],
   "source": [
    "frase = input(\"Frase: \")\n",
    "freq = {ch: frase.count(ch) for ch in set(frase) if ch != \" \"}\n",
    "print(freq)"
   ]
  },
  {
   "cell_type": "markdown",
   "id": "2d7aa84f",
   "metadata": {},
   "source": [
    "2) Crie um dicionário, chamado frutas, de frutas e seus preços.\n",
    "\n",
    "a. Crie um segundo dicionário chamado compras na qual as\n",
    "chaves são as frutas e valores é a quantidade a ser comprada\n",
    "\n",
    "b. Calcule o preço total de um carrinho de compras de frutas\n",
    "usando o dicionário criado no exercício anterior.\n",
    "\n",
    "c. Remova todas as frutas do dicionário de frutas que custam\n",
    "mais de R$ 5,00."
   ]
  },
  {
   "cell_type": "code",
   "execution_count": 24,
   "id": "6906539b",
   "metadata": {},
   "outputs": [
    {
     "name": "stdout",
     "output_type": "stream",
     "text": [
      "17.55\n"
     ]
    }
   ],
   "source": [
    "frutas = {'banana':5.0, \n",
    "\t\t   'maca':4.0,\n",
    "\t\t   'abacaxi':8.5\n",
    "\t\t }\n",
    "compras = {'banana':0.8,\n",
    "\t\t\t'maca':0.2,\n",
    "\t\t\t'abacaxi':1.5\n",
    "\t\t  }\n",
    "\n",
    "total = 0\n",
    "for i, j in enumerate(compras):\n",
    "\ttotal += compras[j] * frutas[j]\n",
    "\n",
    "print(total)"
   ]
  },
  {
   "cell_type": "code",
   "execution_count": 21,
   "id": "ae356f58",
   "metadata": {},
   "outputs": [
    {
     "name": "stdout",
     "output_type": "stream",
     "text": [
      "Total: R$ 17.55\n"
     ]
    }
   ],
   "source": [
    "total = sum(qtd * frutas[fruta] for fruta, qtd in compras.items())\n",
    "print(f\"Total: R$ {total:.2f}\")"
   ]
  },
  {
   "cell_type": "code",
   "execution_count": 32,
   "id": "8bbe158e",
   "metadata": {},
   "outputs": [
    {
     "name": "stdout",
     "output_type": "stream",
     "text": [
      "{'banana': 5.0, 'maca': 4.0}\n"
     ]
    }
   ],
   "source": [
    "for i in list(frutas.keys()):\n",
    "  if frutas[i] > 5.00:\n",
    "    frutas.pop(i)\n",
    "\n",
    "print(frutas)"
   ]
  },
  {
   "cell_type": "code",
   "execution_count": null,
   "id": "5bc9f723",
   "metadata": {},
   "outputs": [],
   "source": [
    "frutas = {\n",
    "    nome: preco\n",
    "    for nome, preco in frutas.items()\n",
    "    if preco <= 5.00\n",
    "}\n",
    "\n",
    "print(frutas)"
   ]
  },
  {
   "cell_type": "code",
   "execution_count": null,
   "id": "1c70ebfb",
   "metadata": {},
   "outputs": [],
   "source": [
    "para_remover = [nome for nome, preco in frutas.items() if preco > 5.00]\n",
    "for nome in para_remover:\n",
    "    del frutas[nome]\n",
    "\n",
    "print(frutas)"
   ]
  },
  {
   "cell_type": "markdown",
   "id": "7f6e7b18",
   "metadata": {},
   "source": [
    "3) Faça um programa que leia o nome RA e média final de um aluno.\n",
    "Armazene todas as informações num dicionário. No final programa\n",
    "deve imprimir as informações do dicionário e situação do aluno\n",
    "(reprovado, exame ou aprovado). Utilize as regras da UNIFESP\n",
    "para definir a situação do aluno."
   ]
  },
  {
   "cell_type": "code",
   "execution_count": 44,
   "id": "9b435d13",
   "metadata": {},
   "outputs": [
    {
     "name": "stdout",
     "output_type": "stream",
     "text": [
      "Aluno: enzo - 168813 - 3.4\n",
      "→ Exame\n"
     ]
    }
   ],
   "source": [
    "entrada = input(\"Aluno (nome RA nota ...): \").split()\n",
    "alunos = {}\n",
    "\n",
    "for i in range(0, len(entrada), 3):\n",
    "    nome = entrada[i]\n",
    "    RA = entrada[i + 1]\n",
    "    nota = float(entrada[i + 2])\n",
    "    alunos[(nome, RA)] = nota\n",
    "\n",
    "for aluno, nota in alunos.items():\n",
    "    print(f\"Aluno: {aluno[0]} - {aluno[1]} - {nota}\")\n",
    "    if nota >= 6.0:\n",
    "        print(\"→ Aprovado\")\n",
    "    elif nota >= 3.0:\n",
    "        print(\"→ Exame\")\n",
    "    else:\n",
    "        print(\"→ Reprovado\")"
   ]
  },
  {
   "cell_type": "markdown",
   "id": "8efde77d",
   "metadata": {},
   "source": [
    "4) Crie um programa que leia nome, sexo, peso e altura de várias\n",
    "pessoas. guarde os dados de cada pessoa num dicionário\n",
    "individual e acrescente o IMC da pessoa. Organize todos os\n",
    "dicionários em uma lista. No final mostre\n",
    "\n",
    "a. Quantas pessoas foram cadastradas\n",
    "\n",
    "b. Qual é o peso médio das pessoas\n",
    "\n",
    "c. Qual é a altura média das pessoas\n",
    "\n",
    "d. Qual é IMC médio das pessoas"
   ]
  },
  {
   "cell_type": "code",
   "execution_count": null,
   "id": "3549eebc",
   "metadata": {},
   "outputs": [
    {
     "name": "stdout",
     "output_type": "stream",
     "text": [
      "Total de pessoas cadastradas: 2\n",
      "Peso medio: 80.0\n",
      "Altura media: 1.77\n",
      "IMC medio: 25.4\n"
     ]
    }
   ],
   "source": [
    "lista_pessoas = []\n",
    "\n",
    "while True:\n",
    "    linha = input(\"Pessoa (nome sexo peso altura) ou 'sair': \").strip()\n",
    "    if linha.lower() == \"sair\":\n",
    "        break\n",
    "\n",
    "    partes = linha.split()\n",
    "    if len(partes) != 4:\n",
    "        print(\"Erro: informe exatamente 4 valores: nome, sexo, peso e altura.\")\n",
    "        continue\n",
    "\n",
    "    nome, sexo, peso_str, altura_str = partes\n",
    "\n",
    "    try:\n",
    "        peso = float(peso_str)\n",
    "        altura = float(altura_str)\n",
    "    except ValueError:\n",
    "        print(\"Erro: peso e altura devem ser números.\")\n",
    "        continue\n",
    "\n",
    "    imc = peso / (altura ** 2)\n",
    "    imc = float(((imc * 100) // 10)) / 10\t\t\t\t\t\t\t\t# imc = round(imc, 1)\n",
    "\n",
    "    individuo = {\n",
    "        \"nome\": nome,\n",
    "        \"sexo\": sexo,\n",
    "        \"peso\": peso,\n",
    "        \"altura\": altura,\n",
    "        \"imc\": imc\n",
    "    }\n",
    "    lista_pessoas.append(individuo)\n",
    "    \n",
    "imc_medio = peso_medio = altura_media = 0\n",
    "print(f\"Total de pessoas cadastradas: {len(lista_pessoas)}\")\t\t\t\t\t\t\t\t#n = len(lista_pessoas)\n",
    "for i in range(len(lista_pessoas)):\t\t\t\t\t\t\t\t\t\t\t\t\t\t\t#peso_medio   = sum(p[\"peso\"]   for p in lista_pessoas) / n\n",
    "    peso_medio += lista_pessoas[i][\"peso\"]\t\t\t\t\t\t\t\t\t\t\t\t\t#altura_media = sum(p[\"altura\"] for p in lista_pessoas) / n\n",
    "    altura_media += lista_pessoas[i][\"altura\"]\t\t\t\t\t\t\t\t\t\t\t\t#imc_medio    = sum(p[\"imc\"]    for p in lista_pessoas) / n\n",
    "    imc_medio += lista_pessoas[i][\"imc\"]\n",
    "\n",
    "print(f\"Peso medio: {peso_medio/len(lista_pessoas)}\\nAltura media: {altura_media/len(lista_pessoas)}\\nIMC medio: {imc_medio/len(lista_pessoas)}\")"
   ]
  },
  {
   "cell_type": "markdown",
   "id": "91534e02",
   "metadata": {},
   "source": [
    "5) Escreva um programa para agrupar uma lista de dicionários por\n",
    "uma chave específica"
   ]
  },
  {
   "cell_type": "code",
   "execution_count": 17,
   "id": "b4fd5d07",
   "metadata": {},
   "outputs": [
    {
     "name": "stdout",
     "output_type": "stream",
     "text": [
      "Idade 25:\n",
      "  {'nome': 'Alice', 'sexo': 'F', 'idade': 25}\n",
      "  {'nome': 'Carla', 'sexo': 'F', 'idade': 25}\n",
      "\n",
      "Idade 30:\n",
      "  {'nome': 'Bruno', 'sexo': 'M', 'idade': 30}\n",
      "  {'nome': 'Daniel', 'sexo': 'M', 'idade': 30}\n",
      "\n",
      "Idade 40:\n",
      "  {'nome': 'Eduarda', 'sexo': 'F', 'idade': 40}\n",
      "\n"
     ]
    }
   ],
   "source": [
    "from collections import defaultdict\n",
    "\n",
    "def agrupar_por_chave(lista_dicts, chave):\n",
    "    \"\"\"\n",
    "    Recebe:\n",
    "      - lista_dicts: uma lista de dicionários\n",
    "      - chave: string com o nome da chave a agrupar\n",
    "\n",
    "    Retorna um dicionário onde:\n",
    "      - cada chave é um valor distinto de lista_dicts[*][chave]\n",
    "      - cada valor é a lista de dicionários originais que têm esse valor\n",
    "    \"\"\"\n",
    "    agrupado = defaultdict(list)\n",
    "    for item in lista_dicts:\n",
    "        # se faltar a chave, aqui viria KeyError; você pode usar item.get(chave)\n",
    "        valor = item[chave]\n",
    "        agrupado[valor].append(item)\n",
    "    return agrupado\n",
    "\n",
    "\n",
    "# Exemplo de uso:\n",
    "pessoas = [\n",
    "    {\"nome\": \"Alice\",   \"sexo\": \"F\", \"idade\": 25},\n",
    "    {\"nome\": \"Bruno\",   \"sexo\": \"M\", \"idade\": 30},\n",
    "    {\"nome\": \"Carla\",   \"sexo\": \"F\", \"idade\": 25},\n",
    "    {\"nome\": \"Daniel\",  \"sexo\": \"M\", \"idade\": 30},\n",
    "    {\"nome\": \"Eduarda\", \"sexo\": \"F\", \"idade\": 40},\n",
    "]\n",
    "\n",
    "resultado = agrupar_por_chave(pessoas, \"idade\")\n",
    "\n",
    "for idade, grupo in resultado.items():\n",
    "    print(f\"Idade {idade}:\")\n",
    "    for pessoa in grupo:\n",
    "        print(\" \", pessoa)\n",
    "    print()"
   ]
  },
  {
   "cell_type": "markdown",
   "id": "6db1d149",
   "metadata": {},
   "source": [
    "6) Escreva um programa para criar um set de todos os caracteres\n",
    "únicos em uma string."
   ]
  },
  {
   "cell_type": "code",
   "execution_count": 15,
   "id": "d35cd16d",
   "metadata": {},
   "outputs": [
    {
     "name": "stdout",
     "output_type": "stream",
     "text": [
      "Caracteres únicos (10): {'w', 'd', 'n', 'k', 's', 'h', 'j', 'u', 'a', 'b'}\n"
     ]
    }
   ],
   "source": [
    "texto = input(\"a: \")\n",
    "unic = set(texto)\n",
    "print(f\"Caracteres únicos ({len(unic)}): {unic}\")"
   ]
  },
  {
   "cell_type": "code",
   "execution_count": 16,
   "id": "8cd4e51d",
   "metadata": {},
   "outputs": [
    {
     "name": "stdout",
     "output_type": "stream",
     "text": [
      "{'n', 'd', 'k', 'p', 's', 'h', 'b', 'i', 'j', 'm', 'a', 'y'}\n"
     ]
    }
   ],
   "source": [
    "import string as s\n",
    "\n",
    "texto = input(\"a: \")\n",
    "apenas_letras = [ch for ch in texto if ch.isalnum()]  # ou: if ch.isalpha()\n",
    "unic = set(apenas_letras)\n",
    "print(unic)"
   ]
  },
  {
   "cell_type": "markdown",
   "id": "42dc6048",
   "metadata": {},
   "source": [
    "7) Escreva um programa para verificar se uma chave específica existe\n",
    "no dicionário ou não."
   ]
  },
  {
   "cell_type": "code",
   "execution_count": null,
   "id": "8fb3d374",
   "metadata": {},
   "outputs": [
    {
     "name": "stdout",
     "output_type": "stream",
     "text": [
      "chave nao encontrada\n"
     ]
    }
   ],
   "source": [
    "def checar_chave (dicionario, chave):\n",
    "\t'''\n",
    "\t\n",
    "\t'''\n",
    "\tfor chaves in dicionario.keys():\n",
    "\t\tif chaves == chave:\n",
    "\t\t\treturn True\n",
    "\treturn False\n",
    "\n",
    "# Exemplo \n",
    "dicio = {\"nome\": \"Enzo\",\n",
    "\t\t \"genero\": \"m\",\n",
    "\t\t \"idade\": 18\n",
    "}\n",
    "if checar_chave(dicio,\"idade\"):\n",
    "\tprint(\"chave encontrada\")\n",
    "else:\n",
    "\tprint(\"chave nao encontrada\")"
   ]
  },
  {
   "cell_type": "code",
   "execution_count": 20,
   "id": "99c7156d",
   "metadata": {},
   "outputs": [
    {
     "name": "stdout",
     "output_type": "stream",
     "text": [
      "True\n",
      "False\n",
      "True\n",
      "False\n",
      "Encontrou idade: 18\n"
     ]
    }
   ],
   "source": [
    "def checar_chave(dicionario, chave):\n",
    "    \"\"\"Retorna True se 'chave' estiver em 'dicionario'.\"\"\"\n",
    "    return chave in dicionario\n",
    "\n",
    "dicio = {\"nome\": \"Enzo\", \"genero\": \"m\", \"idade\": 18}\n",
    "\n",
    "# sua versão manual\n",
    "print(checar_chave(dicio, \"idade\"))      # True\n",
    "print(checar_chave(dicio, \"altura\"))     # False\n",
    "\n",
    "# uso direto do operador in\n",
    "print(\"idade\" in dicio)                  # True\n",
    "print(\"altura\" in dicio)                 # False\n",
    "\n",
    "# usando get() para obter valor\n",
    "if (v := dicio.get(\"idade\")) is not None:\n",
    "    print(\"Encontrou idade:\", v)         # Encontrou idade: 18\n",
    "else:\n",
    "    print(\"Idade não cadastrada\")"
   ]
  },
  {
   "cell_type": "markdown",
   "id": "ef7c35d5",
   "metadata": {},
   "source": [
    "8) Crie um programa que gerencia o aproveitamento de um jogador\n",
    "de futebol. o programa vai ler o nome do jogador e quantas\n",
    "partidas ele jogou. Depois vai ler a quantidade de gols feitos em\n",
    "cada partida. No final, tudo isso será guardado em um dicionário\n",
    "incluindo o total de gols realizados durante o campeonato"
   ]
  },
  {
   "cell_type": "code",
   "execution_count": 21,
   "id": "a630289a",
   "metadata": {},
   "outputs": [
    {
     "name": "stdout",
     "output_type": "stream",
     "text": [
      "\n",
      "Dados do jogador:\n",
      "nome           : Caleri\n",
      "partidas       : 4\n",
      "gols_por_partida: [1, 2, 0, 1]\n",
      "total_gols     : 4\n",
      "\n",
      "O jogador Caleri fez ao todo 4 gol(s).\n",
      "  Partida  1 → 1 gol(s)\n",
      "  Partida  2 → 2 gol(s)\n",
      "  Partida  3 → 0 gol(s)\n",
      "  Partida  4 → 1 gol(s)\n"
     ]
    }
   ],
   "source": [
    "def main():\n",
    "    # 1. Entrada do nome e número de partidas\n",
    "    nome = input(\"Nome do jogador: \").strip()\n",
    "    n_jogos = int(input(f\"Quantas partidas {nome} jogou? \"))\n",
    "\n",
    "    # 2. Coleta de gols por partida\n",
    "    lista_gols = []\n",
    "    for i in range(n_jogos):\n",
    "        while True:\n",
    "            try:\n",
    "                gol = int(input(f\"Gols na partida {i+1}: \"))\n",
    "                break\n",
    "            except ValueError:\n",
    "                print(\"  → Erro: digite um número inteiro de gols.\")\n",
    "        lista_gols.append(gol)\n",
    "\n",
    "    # 3. Cálculo do total\n",
    "    total_gols = sum(lista_gols)\n",
    "\n",
    "    # 4. Construção do dicionário\n",
    "    jogador = {\n",
    "        \"nome\": nome,\n",
    "        \"partidas\": n_jogos,\n",
    "        \"gols_por_partida\": lista_gols,\n",
    "        \"total_gols\": total_gols\n",
    "    }\n",
    "\n",
    "    # 5. Exibição\n",
    "    print(\"\\nDados do jogador:\")\n",
    "    for chave, valor in jogador.items():\n",
    "        print(f\"{chave:15}: {valor}\")\n",
    "    print(f\"\\nO jogador {nome} fez ao todo {total_gols} gol(s).\")\n",
    "    for i, g in enumerate(lista_gols, start=1):\n",
    "        print(f\"  Partida {i:2} → {g} gol(s)\")\n",
    "\n",
    "if __name__ == \"__main__\":\n",
    "    main()"
   ]
  }
 ],
 "metadata": {
  "kernelspec": {
   "display_name": "Python 3",
   "language": "python",
   "name": "python3"
  },
  "language_info": {
   "codemirror_mode": {
    "name": "ipython",
    "version": 3
   },
   "file_extension": ".py",
   "mimetype": "text/x-python",
   "name": "python",
   "nbconvert_exporter": "python",
   "pygments_lexer": "ipython3",
   "version": "3.11.9"
  }
 },
 "nbformat": 4,
 "nbformat_minor": 5
}
