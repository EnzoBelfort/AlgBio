{
 "cells": [
  {
   "cell_type": "markdown",
   "id": "a220e0c2",
   "metadata": {},
   "source": [
    "##### Desafio 00: Agenda\n",
    "- cadastrar contatos\n",
    "- descrever a qtd de contatos\n",
    "- (nome, Tel, CPF)\n",
    "- Ag = [{}] (lista de dicionarios)"
   ]
  },
  {
   "cell_type": "code",
   "execution_count": 1,
   "id": "2b9bdd33",
   "metadata": {},
   "outputs": [
    {
     "name": "stdout",
     "output_type": "stream",
     "text": [
      "[]\n"
     ]
    }
   ],
   "source": [
    "n = int(input(\"Quantos usuarios vc quer inserir na agenda: \"))\n",
    "Ag = []\n",
    "for i in range(n):\n",
    "  contato = input(\"Digite o contato (nome Tel e CPF): \").split()\n",
    "  nome, tel, CPF = contato\n",
    "  dic = {\"nome\":nome,\n",
    "         \"tel\":tel,\n",
    "         \"cpf\":CPF\n",
    "        }\n",
    "  Ag.append(dic)\n",
    "\n",
    "print(Ag)"
   ]
  },
  {
   "attachments": {
    "image.png": {
     "image/png": "[encoded data removed]"
    }
   },
   "cell_type": "markdown",
   "id": "29607b59",
   "metadata": {},
   "source": [
    "##### Desafio 01 – criptografia\n",
    "\n",
    "Desafio: Implemente um algoritmo em Python que receba uma mensagem em texto\n",
    "claro e a criptografe usando o algoritmo de cifra de César com uma chave de\n",
    "deslocamento aleatória.\n",
    "\n",
    "Requisitos:\n",
    "- A entrada da função deve ser uma mensagem em texto claro em formato de\n",
    "string e a chave k.\n",
    "- A saída do algoritmo deve ser a mensagem criptografada em formato de\n",
    "string.\n",
    "- O algoritmo deve utilizar o algoritmo de cifra de César, que consiste em\n",
    "deslocar cada letra da mensagem original para a direita ou esquerda em um\n",
    "número fixo de posições determinado pela chave.\n",
    "- A chave deve ser gerada aleatoriamente no intervalo de 1 a 25.\n",
    "- O algoritmo deve ser capaz de tratar letras maiúsculas e minúsculas e\n",
    "ignorar ( não criptografar o caracter) caracteres não-alfabéticos.\n",
    "Pesquise sobre:\n",
    "- Tabela ascii\n",
    "- Convertendo caracter para ascii em python\n",
    "- Convertendo número ascii caracter em python\n",
    "\n",
    "Exemplo:\n",
    "\n",
    "![image.png](attachment:image.png)\n",
    "\n",
    "Descobrir qual é mensagem e a chave cuja a msg criptografada\n",
    "é: qzsqztmdum nuayqpuom – gzurqeb"
   ]
  },
  {
   "cell_type": "code",
   "execution_count": null,
   "id": "eacfca29",
   "metadata": {},
   "outputs": [
    {
     "name": "stdout",
     "output_type": "stream",
     "text": [
      "A chave k utilizada para a cifra de César será: 25\n",
      "\n",
      "O texto criptografo pela chave 25 é: zab\n"
     ]
    }
   ],
   "source": [
    "import random\n",
    "\n",
    "txt_original = input(\"Digite o texto que será criptografado: \")\n",
    "k = random.randint(1,25)\n",
    "print(f\"A chave k utilizada para a cifra de César será: {k}\\n\")\n",
    "\n",
    "lista_cripto = []\n",
    "for i in txt_original:\n",
    "  char = ord(i)\n",
    "  if char >= 97 and char <= 122:                # minusculas\n",
    "    char = (char + 7) % 26\n",
    "    char = ((char + k) % 26) + 97\n",
    "  elif char >= 65 and char <= 90:               # maiusculas\n",
    "    char = (char + 7) % 26\n",
    "    char = ((char + k) % 26) + 97\n",
    "\n",
    "  lista_cripto.append(chr(char))\n",
    "\n",
    "string_cripto = \"\".join(lista_cripto)\n",
    "print(f\"O texto criptografado pela chave {k} é: {string_cripto}\")"
   ]
  },
  {
   "cell_type": "code",
   "execution_count": 11,
   "id": "752c0ce9",
   "metadata": {},
   "outputs": [
    {
     "name": "stdout",
     "output_type": "stream",
     "text": [
      "Mensagem de entrada\n",
      " qzsqztmdum nuayqpuom – gzurqeb\n",
      "\n",
      "- Mensagem descriptografada com k=1\n",
      "   ratraunevn ovbzrqvpn – havsrfc\n",
      "\n",
      "- Mensagem descriptografada com k=2\n",
      "   sbusbvofwo pwcasrwqo – ibwtsgd\n",
      "\n",
      "- Mensagem descriptografada com k=3\n",
      "   tcvtcwpgxp qxdbtsxrp – jcxuthe\n",
      "\n",
      "- Mensagem descriptografada com k=4\n",
      "   udwudxqhyq ryecutysq – kdyvuif\n",
      "\n",
      "- Mensagem descriptografada com k=5\n",
      "   vexveyrizr szfdvuztr – lezwvjg\n",
      "\n",
      "- Mensagem descriptografada com k=6\n",
      "   wfywfzsjas tagewvaus – mfaxwkh\n",
      "\n",
      "- Mensagem descriptografada com k=7\n",
      "   xgzxgatkbt ubhfxwbvt – ngbyxli\n",
      "\n",
      "- Mensagem descriptografada com k=8\n",
      "   yhayhbulcu vcigyxcwu – ohczymj\n",
      "\n",
      "- Mensagem descriptografada com k=9\n",
      "   zibzicvmdv wdjhzydxv – pidaznk\n",
      "\n",
      "- Mensagem descriptografada com k=10\n",
      "   ajcajdwnew xekiazeyw – qjebaol\n",
      "\n",
      "- Mensagem descriptografada com k=11\n",
      "   bkdbkexofx yfljbafzx – rkfcbpm\n",
      "\n",
      "- Mensagem descriptografada com k=12\n",
      "   cleclfypgy zgmkcbgay – slgdcqn\n",
      "\n",
      "- Mensagem descriptografada com k=13\n",
      "   dmfdmgzqhz ahnldchbz – tmhedro\n",
      "\n",
      "- Mensagem descriptografada com k=14\n",
      "   engenharia biomedica – unifesp\n",
      "\n",
      "- Mensagem descriptografada com k=15\n",
      "   fohfoibsjb cjpnfejdb – vojgftq\n",
      "\n",
      "- Mensagem descriptografada com k=16\n",
      "   gpigpjctkc dkqogfkec – wpkhgur\n",
      "\n",
      "- Mensagem descriptografada com k=17\n",
      "   hqjhqkduld elrphglfd – xqlihvs\n",
      "\n",
      "- Mensagem descriptografada com k=18\n",
      "   irkirlevme fmsqihmge – yrmjiwt\n",
      "\n",
      "- Mensagem descriptografada com k=19\n",
      "   jsljsmfwnf gntrjinhf – zsnkjxu\n",
      "\n",
      "- Mensagem descriptografada com k=20\n",
      "   ktmktngxog houskjoig – atolkyv\n",
      "\n",
      "- Mensagem descriptografada com k=21\n",
      "   lunluohyph ipvtlkpjh – bupmlzw\n",
      "\n",
      "- Mensagem descriptografada com k=22\n",
      "   mvomvpizqi jqwumlqki – cvqnmax\n",
      "\n",
      "- Mensagem descriptografada com k=23\n",
      "   nwpnwqjarj krxvnmrlj – dwronby\n",
      "\n",
      "- Mensagem descriptografada com k=24\n",
      "   oxqoxrkbsk lsywonsmk – exspocz\n",
      "\n",
      "- Mensagem descriptografada com k=25\n",
      "   pyrpyslctl mtzxpotnl – fytqpda\n",
      "\n"
     ]
    }
   ],
   "source": [
    "txt_original = input(\"Mensagem de entrada: \")\n",
    "print(f\"Mensagem de entrada\\n {txt_original}\",end=\"\\n\\n\")\n",
    "\n",
    "k = 1\n",
    "for i in range(25):\n",
    "\tlista_cripto = []\n",
    "\tfor j in txt_original:\n",
    "\t\tchar = ord(j)\n",
    "\t\tif char >= 97 and char <= 122:                # minusculas\n",
    "\t\t\tchar = (char + 7) % 26\n",
    "\t\t\tchar = ((char + k) % 26) + 97\n",
    "\t\telif char >= 65 and char <= 90:               # maiusculas\n",
    "\t\t\tchar = (char + 7) % 26\n",
    "\t\t\tchar = ((char + k) % 26) + 97\n",
    "\t\tlista_cripto.append(chr(char))\n",
    "\t\n",
    "\tstring_cripto = \"\".join(lista_cripto)\n",
    "\tprint(f\"- Mensagem descriptografada com k={k}\\n   {string_cripto}\\n\")\n",
    "\tk += 1"
   ]
  },
  {
   "cell_type": "markdown",
   "id": "5f9b8908",
   "metadata": {},
   "source": [
    "##### Desafio 02 - Gerador e Verificador de CPF\n",
    "\n",
    "Neste desafio, você deve criar duas funções em Python: uma para gerar um número\n",
    "de CPF válido e outra para verificar a validade de um CPF fornecido.\n",
    "\n",
    "Função para Gerar CPF Válido (gerar_cpf()):\n",
    "\n",
    "Esta função deve gerar um número de CPF válido seguindo as regras estabelecidas\n",
    "para a formatação de CPF no Brasil. O CPF deve ser composto por 11 dígitos, sendo\n",
    "os dois últimos os dígitos de verificação. Procurar na internet como é realizado o\n",
    "calculo dos dígitos verificadores\n",
    "\n",
    "Função para Verificar a Validade do CPF (verificar_cpf(cpf)):\n",
    "\n",
    "Esta função deve receber um número de CPF como entrada e verificar se ele é válido\n",
    "ou não. Deve retornar True se o CPF for válido e False caso contrário. A validação\n",
    "deve ser feita verificando se o CPF possui 11 dígitos, se os dígitos verificadores estão\n",
    "corretos e se o CPF não é uma sequência de dígitos repetidos."
   ]
  },
  {
   "cell_type": "code",
   "execution_count": null,
   "id": "450145eb",
   "metadata": {},
   "outputs": [],
   "source": []
  }
 ],
 "metadata": {
  "kernelspec": {
   "display_name": "base",
   "language": "python",
   "name": "python3"
  },
  "language_info": {
   "codemirror_mode": {
    "name": "ipython",
    "version": 3
   },
   "file_extension": ".py",
   "mimetype": "text/x-python",
   "name": "python",
   "nbconvert_exporter": "python",
   "pygments_lexer": "ipython3",
   "version": "3.12.5"
  }
 },
 "nbformat": 4,
 "nbformat_minor": 5
}
