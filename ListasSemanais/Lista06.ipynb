{
 "cells": [
  {
   "cell_type": "markdown",
   "id": "3c5ecdfc",
   "metadata": {},
   "source": [
    "1) Escreva uma função chamada fatorial para calcular o\n",
    "fatorial de um número inteiro."
   ]
  },
  {
   "cell_type": "code",
   "execution_count": 6,
   "id": "6165452b",
   "metadata": {},
   "outputs": [
    {
     "data": {
      "text/plain": [
       "720"
      ]
     },
     "execution_count": 6,
     "metadata": {},
     "output_type": "execute_result"
    }
   ],
   "source": [
    "def fatorial(n):\n",
    "\tif n == 1 or n==0:\t\t\t\t\t\t\t\t\t#condicao de parada\n",
    "\t\treturn 1\n",
    "\t\n",
    "\treturn n * fatorial(n-1)\n",
    "\n",
    "n = int(input(\"N: \"))\n",
    "fatorial(n)"
   ]
  },
  {
   "cell_type": "markdown",
   "id": "3aa25ac4",
   "metadata": {},
   "source": [
    "2) Escreva uma função chamada maxnum que retorne o maior\n",
    "número de um conjunto de números. Utilize\n",
    "empacotamento para fazer a função."
   ]
  },
  {
   "cell_type": "code",
   "execution_count": 42,
   "id": "017fe496",
   "metadata": {},
   "outputs": [
    {
     "data": {
      "text/plain": [
       "100"
      ]
     },
     "execution_count": 42,
     "metadata": {},
     "output_type": "execute_result"
    }
   ],
   "source": [
    "def maxnum(*num):\n",
    "\tmax = num[0]\n",
    "\tfor i in num:\n",
    "\t\tif i > max:\n",
    "\t\t\tmax = i\n",
    "\treturn max\n",
    "\n",
    "maxnum(100,4,5,9,10,98)"
   ]
  },
  {
   "cell_type": "markdown",
   "id": "e6445005",
   "metadata": {},
   "source": [
    "3) Escreva uma função que receba dois números e retorne\n",
    "True se o primeiro número for múltiplo do segundo."
   ]
  },
  {
   "cell_type": "code",
   "execution_count": 23,
   "id": "1fa5f014",
   "metadata": {},
   "outputs": [
    {
     "data": {
      "text/plain": [
       "True"
      ]
     },
     "execution_count": 23,
     "metadata": {},
     "output_type": "execute_result"
    }
   ],
   "source": [
    "def multiplo(a,b):\n",
    "\tif a % b == 0:\n",
    "\t\treturn True\n",
    "\treturn False\n",
    "\n",
    "multiplo(21,7)"
   ]
  },
  {
   "cell_type": "markdown",
   "id": "bd76f364",
   "metadata": {},
   "source": [
    "4) Crie uma função chamada \"calculadora\" que recebe três\n",
    "parâmetros: dois números e uma operação matemática (+,\n",
    "-, *, /). A função deve retornar o resultado da operação."
   ]
  },
  {
   "cell_type": "code",
   "execution_count": 34,
   "id": "57f960e7",
   "metadata": {},
   "outputs": [
    {
     "data": {
      "text/plain": [
       "1.5"
      ]
     },
     "execution_count": 34,
     "metadata": {},
     "output_type": "execute_result"
    }
   ],
   "source": [
    "def calculadora(a,b,op):\n",
    "\tif op == \"+\":\n",
    "\t\treturn a + b\n",
    "\telif op == \"-\":\n",
    "\t\treturn a - b\n",
    "\telif op == \"*\":\n",
    "\t\treturn a * b\n",
    "\telif op == \"/\":\n",
    "\t\treturn a/b\n",
    "\treturn None\n",
    "  \n",
    "calculadora(3,2,\"/\")"
   ]
  },
  {
   "cell_type": "markdown",
   "id": "0dc517f9",
   "metadata": {},
   "source": [
    "5) Crie uma função chamada \"maior_palavra\" que recebe\n",
    "uma lista de palavras como parâmetro e retorna a maior\n",
    "palavra dessa lista."
   ]
  },
  {
   "cell_type": "code",
   "execution_count": 48,
   "id": "8f34de4a",
   "metadata": {},
   "outputs": [
    {
     "data": {
      "text/plain": [
       "'enzo de almeida belfort rizzi di chiara'"
      ]
     },
     "execution_count": 48,
     "metadata": {},
     "output_type": "execute_result"
    }
   ],
   "source": [
    "def maior_palavra(palavras):\n",
    "  max = len(palavras[0])\n",
    "  maior = palavras[0]\n",
    "  for i in range(1,len(palavras)):\n",
    "    if len(palavras[i]) > max:\n",
    "      max = len(palavras[i])\n",
    "      maior = palavras[i]\n",
    "  \n",
    "  return maior\n",
    "\n",
    "palavras = ['abc','abcd','enzo de almeida belfort rizzi di chiara','0']\n",
    "maior_palavra(palavras)"
   ]
  },
  {
   "cell_type": "markdown",
   "id": "32383b5f",
   "metadata": {},
   "source": [
    "6) Implemente uma função chamada \"soma_recursiva\" que\n",
    "recebe um número inteiro positivo como parâmetro e\n",
    "retorna a soma de todos os números inteiros de 1 até esse\n",
    "número, utilizando recursividade."
   ]
  },
  {
   "cell_type": "code",
   "execution_count": 53,
   "id": "7f908d4d",
   "metadata": {},
   "outputs": [
    {
     "data": {
      "text/plain": [
       "21"
      ]
     },
     "execution_count": 53,
     "metadata": {},
     "output_type": "execute_result"
    }
   ],
   "source": [
    "def soma_recursiva(n):\n",
    "  if n == 0:\n",
    "    return 0\n",
    "  \n",
    "  return n + soma_recursiva(n-1)\n",
    "\n",
    "soma_recursiva(6)"
   ]
  }
 ],
 "metadata": {
  "kernelspec": {
   "display_name": "base",
   "language": "python",
   "name": "python3"
  },
  "language_info": {
   "codemirror_mode": {
    "name": "ipython",
    "version": 3
   },
   "file_extension": ".py",
   "mimetype": "text/x-python",
   "name": "python",
   "nbconvert_exporter": "python",
   "pygments_lexer": "ipython3",
   "version": "3.12.5"
  }
 },
 "nbformat": 4,
 "nbformat_minor": 5
}
