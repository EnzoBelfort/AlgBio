{
 "cells": [
  {
   "cell_type": "markdown",
   "metadata": {},
   "source": [
    "# Lista de exercícios semana 01"
   ]
  },
  {
   "cell_type": "markdown",
   "metadata": {},
   "source": [
    "1) Crie um script em Python que solicite o nome, altura e peso\n",
    "de uma pessoa e mostre a seguinte mensagem: “João tem 90\n",
    "kilos e altura de 1.78 e portanto o IMC é de 28.4”."
   ]
  },
  {
   "cell_type": "code",
   "execution_count": null,
   "metadata": {},
   "outputs": [],
   "source": [
    "nome = input(\"Qual o seu nome? \")\n",
    "altura = float(input(\"Qual a sua altura? \"))\n",
    "peso = float(input(\"Qual o seu peso? \"))\n",
    "\n",
    "imc = peso / (altura ** 2)\n",
    "print(f\"{nome} tem {peso:.0f} kilos e altura de {altura} e portanto, seu IMC é de {imc:.1f}\")"
   ]
  },
  {
   "cell_type": "markdown",
   "metadata": {},
   "source": [
    "2) Escreva um script que leia um valor em metros e o exiba\n",
    "convertido em milímetros"
   ]
  },
  {
   "cell_type": "code",
   "execution_count": null,
   "metadata": {},
   "outputs": [
    {
     "name": "stdout",
     "output_type": "stream",
     "text": [
      "1.78 metros = 1780.0 milimetros\n"
     ]
    }
   ],
   "source": [
    "valor_metros = float(input(\"Digite um valor em metros: \"))\n",
    "\n",
    "valor_milimetros = valor_metros * 1000\n",
    "\n",
    "print(f\"{valor_metros} metros = {valor_milimetros} milimetros\")"
   ]
  },
  {
   "cell_type": "markdown",
   "metadata": {},
   "source": [
    "3) Escreva um script que leia a quantidade de dias,horas,\n",
    "minutos e segundos para o usuário. Calcule o total em\n",
    "segundos."
   ]
  },
  {
   "cell_type": "code",
   "execution_count": 3,
   "metadata": {},
   "outputs": [
    {
     "name": "stdout",
     "output_type": "stream",
     "text": [
      "Total: 90061 segundos.\n"
     ]
    }
   ],
   "source": [
    "dias = int(input(\"Dias: \"))\n",
    "horas = int(input(\"Horas: \"))\n",
    "minutos = int(input(\"Minutos: \"))\n",
    "segundos = int(input(\"Segundos: \"))\n",
    "\n",
    "qtd_segundos = segundos + (minutos*60) + (horas*3600) + (dias*24*3600)\n",
    "\n",
    "print(f\"Total: {qtd_segundos} segundos.\")"
   ]
  },
  {
   "cell_type": "markdown",
   "metadata": {},
   "source": [
    "4) Faça um script que calcule o aumento de salário. Ele deve\n",
    "solicitar o valor do salário e a porcentagem de aumento.\n",
    "Exiba o valor do aumento e do novo salário."
   ]
  },
  {
   "cell_type": "code",
   "execution_count": null,
   "metadata": {},
   "outputs": [
    {
     "name": "stdout",
     "output_type": "stream",
     "text": [
      "Valor do aumento: 3600.0 \n",
      " Novo Salario: 7200.0\n"
     ]
    }
   ],
   "source": [
    "salario = float(input(\"Salario Atual: \"))\n",
    "aumento_percentual = int(input(\"Aumento percentual do salario: \"))\n",
    "\n",
    "valor_aumento = salario * (aumento_percentual/100)\n",
    "salario_novo = salario + valor_aumento\n",
    "\n",
    "print(f\"Valor do aumento: {valor_aumento} reais \\n Novo Salario: {salario_novo} reais\")"
   ]
  },
  {
   "cell_type": "markdown",
   "metadata": {},
   "source": [
    "5) Leia a temperatura em graus Celsius e converta para\n",
    "Fahrenheit."
   ]
  },
  {
   "cell_type": "code",
   "execution_count": 9,
   "metadata": {},
   "outputs": [
    {
     "name": "stdout",
     "output_type": "stream",
     "text": [
      "Temp em Fahrenheit: 147.2\n"
     ]
    }
   ],
   "source": [
    "temp_celsius = float(input(\"Temperatura (em graus Celsius): \"))\n",
    "\n",
    "temp_fahrenheit = (temp_celsius * (9/5)) + 32\n",
    "\n",
    "print(f\"Temp em Fahrenheit: {temp_fahrenheit}\")"
   ]
  },
  {
   "cell_type": "markdown",
   "metadata": {},
   "source": [
    "6) Escreva um programa que calcule o IMC (Índice de Massa\n",
    "Corporal) de uma pessoa."
   ]
  },
  {
   "cell_type": "code",
   "execution_count": 10,
   "metadata": {},
   "outputs": [
    {
     "name": "stdout",
     "output_type": "stream",
     "text": [
      "Seu IMC é 25.46, e você está classificado como: Sobrepeso\n"
     ]
    }
   ],
   "source": [
    "def calcular_imc(peso, altura):\n",
    "  return peso / (altura ** 2)\n",
    "\n",
    "def classificar_imc(imc):\n",
    "  if imc < 18.5:\n",
    "    return \"Abaixo do peso\"\n",
    "  elif 18.5 <= imc < 24.9:\n",
    "    return \"Peso normal\"\n",
    "  elif 25 <= imc < 29.9:\n",
    "    return \"Sobrepeso\"\n",
    "  else:\n",
    "    return \"Obesidade\"\n",
    "\n",
    "peso = float(input(\"Digite seu peso em kg: \"))\n",
    "altura = float(input(\"Digite sua altura em metros: \"))\n",
    "imc = calcular_imc(peso, altura)\n",
    "classificacao = classificar_imc(imc)\n",
    "\n",
    "print(f\"Seu IMC é {imc:.2f}, e você está classificado como: {classificacao}\")"
   ]
  },
  {
   "cell_type": "markdown",
   "metadata": {},
   "source": [
    "7) Leia o valor de um produto e calcule o valor final com 10% de\n",
    "desconto."
   ]
  },
  {
   "cell_type": "code",
   "execution_count": 12,
   "metadata": {},
   "outputs": [
    {
     "name": "stdout",
     "output_type": "stream",
     "text": [
      "Valor com desconto de 10%: 162.0\n"
     ]
    }
   ],
   "source": [
    "valor_cheio = float(input(\"Digite o valor do produto: \"))\n",
    "\n",
    "valor_com_desconto = valor_cheio * 0.9\n",
    "\n",
    "print(f\"Valor com desconto de 10%: {valor_com_desconto}\")"
   ]
  },
  {
   "cell_type": "markdown",
   "metadata": {},
   "source": [
    "8) Crie um programa que calcule o tempo de viagem, pedindo\n",
    "ao usuário a distância e a velocidade."
   ]
  },
  {
   "cell_type": "code",
   "execution_count": null,
   "metadata": {},
   "outputs": [],
   "source": [
    "dist = float(input(\"Distancia (em km): \"))\n",
    "vel = float(input(\"Velocidade (em km/h): \"))\n",
    "\n",
    "tempo = (dist/vel)    # em horas\n",
    "\n",
    "print(f\"Tempo de viagem = \")"
   ]
  }
 ],
 "metadata": {
  "kernelspec": {
   "display_name": "Python 3",
   "language": "python",
   "name": "python3"
  },
  "language_info": {
   "codemirror_mode": {
    "name": "ipython",
    "version": 3
   },
   "file_extension": ".py",
   "mimetype": "text/x-python",
   "name": "python",
   "nbconvert_exporter": "python",
   "pygments_lexer": "ipython3",
   "version": "3.11.9"
  }
 },
 "nbformat": 4,
 "nbformat_minor": 2
}
