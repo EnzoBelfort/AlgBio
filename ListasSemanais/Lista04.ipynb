{
 "cells": [
  {
   "cell_type": "markdown",
   "id": "01344e95",
   "metadata": {},
   "source": [
    "1) Faça um Programa que leia uma lista de 10 números reais e mostre-\n",
    "os na ordem inversa."
   ]
  },
  {
   "cell_type": "code",
   "execution_count": null,
   "id": "03297b8d",
   "metadata": {},
   "outputs": [
    {
     "name": "stdout",
     "output_type": "stream",
     "text": [
      "[0, 9, 8, 77, 6, 5, 4, 3, 1, 0] <class 'list'> <class 'int'>\n"
     ]
    }
   ],
   "source": [
    "entrada = input(\"Digite a lista de numeros: \")\n",
    "lista = entrada.split()\n",
    "\n",
    "for i in range(len(lista)):\n",
    "    lista[i] = int(lista[i])\n",
    "\n",
    "print(lista[::-1])"
   ]
  },
  {
   "cell_type": "markdown",
   "id": "772349ee",
   "metadata": {},
   "source": [
    "2) Faça um programa que leia duas listas e que gere uma terceira com\n",
    "os elementos das duas primeiras."
   ]
  },
  {
   "cell_type": "code",
   "execution_count": 10,
   "id": "f12391db",
   "metadata": {},
   "outputs": [
    {
     "name": "stdout",
     "output_type": "stream",
     "text": [
      "['1', '2', '3', '4', '5', '6']\n"
     ]
    }
   ],
   "source": [
    "entrada1 = input(\"Digite a primeira lista: \")\n",
    "entrada2 = input(\"Digite a segunda lista: \")\n",
    "\n",
    "lista_unida = entrada1.split() + entrada2.split()\n",
    "print(lista_unida)"
   ]
  },
  {
   "cell_type": "code",
   "execution_count": 50,
   "id": "db4ff340",
   "metadata": {},
   "outputs": [
    {
     "name": "stdout",
     "output_type": "stream",
     "text": [
      "1 2   3 4"
     ]
    }
   ],
   "source": [
    "entrada1 = input(\"Digite a primeira lista: \")\n",
    "entrada2 = input(\"Digite a segunda lista: \")\n",
    "\n",
    "for i,j in zip(entrada1, entrada2):\n",
    "  print(i,j, end=\"\")"
   ]
  },
  {
   "cell_type": "markdown",
   "id": "1075571e",
   "metadata": {},
   "source": [
    "3) A lista de temperaturas de Mons, na Bélgica, foi armazenada na lista\n",
    "T = [ -10, -8, 0, 1, 2, 5, -2, -4]. Faça um programa que imprima a menor\n",
    "e a maior temperatura, assim como a temperatura média."
   ]
  },
  {
   "cell_type": "code",
   "execution_count": 24,
   "id": "2e24eb2a",
   "metadata": {},
   "outputs": [
    {
     "name": "stdout",
     "output_type": "stream",
     "text": [
      "Temp min: -10\n",
      "Temp max: 5\n",
      "Temp media: -2.0\n"
     ]
    }
   ],
   "source": [
    "T = [ -10, -8, 0, 1, 2, 5, -2, -4]\n",
    "\n",
    "min = T[0]\n",
    "max = T[0]\n",
    "cont = 0\n",
    "for i in range(len(T)):\n",
    "    if T[i] < min:\n",
    "        min = T[i]\n",
    "    if T[i] > max:\n",
    "        max = T[i]\n",
    "    cont += T[i]\n",
    "\n",
    "temp_media = cont/len(T)\n",
    "\n",
    "print(f\"Temp min: {min}\\nTemp max: {max}\\nTemp media: {temp_media}\")"
   ]
  },
  {
   "cell_type": "markdown",
   "id": "1f798b64",
   "metadata": {},
   "source": [
    "4) Faça um Programa que leia 20 números inteiros e armazene-os num\n",
    "lista. Armazene os números pares na lista PAR e os números\n",
    "IMPARES na lista impar. Imprima os três vetores."
   ]
  },
  {
   "cell_type": "code",
   "execution_count": 32,
   "id": "083c0ee4",
   "metadata": {},
   "outputs": [
    {
     "name": "stdout",
     "output_type": "stream",
     "text": [
      "[1, 2, 3, 4, 5, 6, 7, 8, 9, 10] [2, 4, 6, 8, 10] [1, 3, 5, 7, 9]\n"
     ]
    }
   ],
   "source": [
    "lista = input(\"Lista: \")       # lista = [int(item) for item in input(\"Lista: \").split()]\n",
    "lista = lista.split()\n",
    "\n",
    "listaPar = []\n",
    "listaImpar = []\n",
    "for i in range(len(lista)):\n",
    "    lista[i] = int(lista[i])\n",
    "    if lista[i] % 2 == 0:\n",
    "        listaPar.append(lista[i])\n",
    "    else:\n",
    "        listaImpar.append(lista[i])\n",
    "\n",
    "print(lista, listaPar, listaImpar)"
   ]
  },
  {
   "cell_type": "markdown",
   "id": "63630f40",
   "metadata": {},
   "source": [
    "5) Faça um Programa que peça as quatro notas de 5 alunos, calcule e\n",
    "armazene numa lista a média de cada aluno, imprima o número de\n",
    "alunos com média maior ou igual a 7.0"
   ]
  },
  {
   "cell_type": "code",
   "execution_count": 35,
   "id": "4f1e7a7e",
   "metadata": {},
   "outputs": [
    {
     "name": "stdout",
     "output_type": "stream",
     "text": [
      "3\n"
     ]
    }
   ],
   "source": [
    "aluno1 = input(\"4 notas: \").split()\n",
    "aluno2 = input(\"4 notas: \").split()\n",
    "aluno3 = input(\"4 notas: \").split()\n",
    "aluno4 = input(\"4 notas: \").split()\n",
    "aluno5 = input(\"4 notas: \").split()\n",
    "\n",
    "media1 = media2 = media3 = media4 = media5 = 0.0\n",
    "for i in range(4):\n",
    "  aluno1[i] = float(aluno1[i])\n",
    "  aluno2[i] = float(aluno2[i])\n",
    "  aluno3[i] = float(aluno3[i])\n",
    "  aluno4[i] = float(aluno4[i])\n",
    "  aluno5[i] = float(aluno5[i])\n",
    "\n",
    "  media1 += aluno1[i]\n",
    "  media2 += aluno2[i]\n",
    "  media3 += aluno3[i]\n",
    "  media4 += aluno4[i]\n",
    "  media5 += aluno5[i]\n",
    "\n",
    "listaMedias = []\n",
    "listaMedias.append(media1/4)\n",
    "listaMedias.append(media2/4)\n",
    "listaMedias.append(media3/4)\n",
    "listaMedias.append(media4/4)\n",
    "listaMedias.append(media5/4)\n",
    "\n",
    "cont = 0\n",
    "for i in range(len(listaMedias)):\n",
    "  if listaMedias[i] >= 7.0:\n",
    "    cont += 1\n",
    "\n",
    "print(cont)"
   ]
  },
  {
   "cell_type": "code",
   "execution_count": null,
   "id": "d33e07aa",
   "metadata": {},
   "outputs": [],
   "source": [
    "# Número de alunos pode ser variado\n",
    "n_alunos = 5\n",
    "n_notas = 4\n",
    "\n",
    "# Lê as notas de todos os alunos de uma vez\n",
    "alunos = [\n",
    "    list(map(float, input(f\"Digite as {n_notas} notas do aluno {i+1}: \").split()))\n",
    "    for i in range(n_alunos)\n",
    "]\n",
    "\n",
    "# Calcula as médias\n",
    "medias = [ sum(notas) / n_notas for notas in alunos ]\n",
    "\n",
    "# Conta quantos têm média >= 7.0\n",
    "aprovados = sum(1 for m in medias if m >= 7.0)\n",
    "\n",
    "print(f\"{aprovados} alunos com média ≥ 7.0\")"
   ]
  },
  {
   "cell_type": "code",
   "execution_count": null,
   "id": "c6f658bc",
   "metadata": {},
   "outputs": [],
   "source": [
    "def conta_aprovados(n_alunos, n_notas, nota_minima=7.0):\n",
    "    medias = []\n",
    "    for i in range(n_alunos):\n",
    "        notas = list(map(float, input(f\"Notas do aluno {i+1}: \").split()))\n",
    "        medias.append(sum(notas) / n_notas)\n",
    "    return sum(1 for m in medias if m >= nota_minima)\n",
    "\n",
    "# Exemplo de uso\n",
    "n_alunos = int(input(\"Quantos alunos? \"))\n",
    "n_notas  = int(input(\"Quantas notas por aluno? \"))\n",
    "aprovados = conta_aprovados(n_alunos, n_notas)\n",
    "print(f\"{aprovados} alunos com média ≥ 7.0\")"
   ]
  },
  {
   "cell_type": "markdown",
   "id": "66c124ce",
   "metadata": {},
   "source": [
    "6) Escreva uma rotina que recebe uma lista de números e retorna a\n",
    "soma dos quadrados dos números."
   ]
  },
  {
   "cell_type": "code",
   "execution_count": 45,
   "id": "7f018f4b",
   "metadata": {},
   "outputs": [
    {
     "name": "stdout",
     "output_type": "stream",
     "text": [
      "Soma dos quadrados = 30.0\n"
     ]
    }
   ],
   "source": [
    "lista = list(map(float, input(\"Lista: \").split()))\n",
    "\n",
    "soma = 0.0\n",
    "for i in range(len(lista)):\n",
    "  soma += (lista[i] * lista[i])\n",
    "\n",
    "print(f\"Soma dos quadrados = {soma}\")"
   ]
  },
  {
   "cell_type": "code",
   "execution_count": null,
   "id": "5af045cf",
   "metadata": {},
   "outputs": [],
   "source": [
    "# Lê os números, converte pra float e já soma os quadrados em uma linha\n",
    "soma_quadrados = sum(x * x for x in map(float, input(\"Lista: \").split()))\n",
    "\n",
    "print(f\"Soma dos quadrados = {soma_quadrados}\")"
   ]
  },
  {
   "cell_type": "markdown",
   "id": "30b643c3",
   "metadata": {},
   "source": [
    "7) Escreva uma rotina que recebe uma lista de números e retorna\n",
    "outra lista contendo somente os números ímpares. Utilizar list\n",
    "comprehension."
   ]
  },
  {
   "cell_type": "code",
   "execution_count": 56,
   "id": "d0d01c98",
   "metadata": {},
   "outputs": [
    {
     "name": "stdout",
     "output_type": "stream",
     "text": [
      "[1, 3, 5, 7, 9]\n"
     ]
    }
   ],
   "source": [
    "lista_impares = [x for x in map(int, input(\"Lista: \").split()) if x % 2 != 0]\n",
    "print(lista_impares)"
   ]
  },
  {
   "cell_type": "code",
   "execution_count": null,
   "id": "80615f3a",
   "metadata": {},
   "outputs": [],
   "source": [
    "def filtrar_impares(numeros):\n",
    "    \"\"\"\n",
    "    Recebe uma lista de números e retorna uma nova lista contendo\n",
    "    somente os números ímpares.\n",
    "    \"\"\"\n",
    "    return [x for x in numeros if x % 2 != 0]\n",
    "\n",
    "# Exemplo de uso\n",
    "if __name__ == \"__main__\":\n",
    "    dados = [10, 15, 22, 33, 42, 57, 68]\n",
    "    impares = filtrar_impares(dados)\n",
    "    print(impares)  # Saída: [15, 33, 57]"
   ]
  },
  {
   "cell_type": "markdown",
   "id": "1bf322aa",
   "metadata": {},
   "source": [
    "8) Escreva uma função que recebe uma lista de strings e retorna a\n",
    "string mais longa."
   ]
  },
  {
   "cell_type": "code",
   "execution_count": 57,
   "id": "5c9e66b9",
   "metadata": {},
   "outputs": [
    {
     "name": "stdout",
     "output_type": "stream",
     "text": [
      "EnzoDeAlmeidaBelfortRizziDiChiara\n"
     ]
    }
   ],
   "source": [
    "def maiorString(listaStrings):\n",
    "    maior = len(listaStrings[0])\n",
    "    j = 0\n",
    "    for i in range(1, len(listaStrings)):\n",
    "        if len(listaStrings[i]) > maior:\n",
    "            maior = len(listaStrings[i])\n",
    "            j = i\n",
    "    return listaStrings[j]\n",
    "\n",
    "if __name__ == \"__main__\":\n",
    "    listaStrings = input(\"Strings: \").split()\n",
    "    longestString = maiorString(listaStrings)\n",
    "    print(longestString)"
   ]
  },
  {
   "cell_type": "code",
   "execution_count": null,
   "id": "422d4dba",
   "metadata": {},
   "outputs": [],
   "source": [
    "from typing import List, Optional\n",
    "\n",
    "def maior_string(strings: List[str]) -> Optional[str]:\n",
    "    \"\"\"\n",
    "    Recebe uma lista de strings e devolve a mais longa (primeira encontrada, em caso de empate).\n",
    "    \"\"\"\n",
    "    if not strings:\n",
    "        return None\n",
    "    return max(strings, key=len)"
   ]
  },
  {
   "cell_type": "code",
   "execution_count": null,
   "id": "439f8697",
   "metadata": {},
   "outputs": [],
   "source": [
    "def maiores_strings(strings: List[str]) -> List[str]:\n",
    "    \"\"\"\n",
    "    Retorna todas as strings de maior comprimento (pode haver mais de uma).\n",
    "    \"\"\"\n",
    "    if not strings:\n",
    "        return []\n",
    "    max_len = max(map(len, strings))\n",
    "    return [s for s in strings if len(s) == max_len]"
   ]
  }
 ],
 "metadata": {
  "kernelspec": {
   "display_name": "Python 3",
   "language": "python",
   "name": "python3"
  },
  "language_info": {
   "codemirror_mode": {
    "name": "ipython",
    "version": 3
   },
   "file_extension": ".py",
   "mimetype": "text/x-python",
   "name": "python",
   "nbconvert_exporter": "python",
   "pygments_lexer": "ipython3",
   "version": "3.11.9"
  }
 },
 "nbformat": 4,
 "nbformat_minor": 5
}
